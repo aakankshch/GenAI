{
 "cells": [
  {
   "cell_type": "code",
   "execution_count": 1,
   "metadata": {},
   "outputs": [],
   "source": [
    "#Install inbuilt Wikipedia Tool\n",
    "from langchain_community.utilities import WikipediaAPIWrapper\n",
    "from langchain_community.tools import WikipediaQueryRun"
   ]
  },
  {
   "cell_type": "code",
   "execution_count": 2,
   "metadata": {},
   "outputs": [
    {
     "data": {
      "text/plain": [
       "WikipediaQueryRun(api_wrapper=WikipediaAPIWrapper(wiki_client=<module 'wikipedia' from 'd:\\\\Data Science\\\\Projects\\\\Gen AI\\\\Project Lang Chain Q&A\\\\venv\\\\lib\\\\site-packages\\\\wikipedia\\\\__init__.py'>, top_k_results=1, lang='en', load_all_available_meta=False, doc_content_chars_max=200))"
      ]
     },
     "execution_count": 2,
     "metadata": {},
     "output_type": "execute_result"
    }
   ],
   "source": [
    "#Wrapper around Wikipedia API\n",
    "wiki_wrapper=WikipediaAPIWrapper(top_k_results=1,doc_content_chars_max=200)\n",
    "tool1=WikipediaQueryRun(api_wrapper=wiki_wrapper)\n",
    "tool1"
   ]
  },
  {
   "cell_type": "code",
   "execution_count": 3,
   "metadata": {},
   "outputs": [
    {
     "data": {
      "text/plain": [
       "'A wrapper around Wikipedia. Useful for when you need to answer general questions about people, places, companies, facts, historical events, or other subjects. Input should be a search query.'"
      ]
     },
     "execution_count": 3,
     "metadata": {},
     "output_type": "execute_result"
    }
   ],
   "source": [
    "tool1.description"
   ]
  },
  {
   "cell_type": "code",
   "execution_count": 4,
   "metadata": {},
   "outputs": [
    {
     "data": {
      "text/plain": [
       "'Page: Max Verstappen\\nSummary: Max Emilian Verstappen (Dutch pronunciation: [ˈmɑks vɛrˈstɑ.pə(n)]; born 30 September 1997) is a Belgian and Dutch racing driver competing in Formula One under the Dutch '"
      ]
     },
     "execution_count": 4,
     "metadata": {},
     "output_type": "execute_result"
    }
   ],
   "source": [
    "tool1.run(\"Max Verstappen\")"
   ]
  },
  {
   "cell_type": "markdown",
   "metadata": {},
   "source": [
    "Custom Tool using Web Url"
   ]
  },
  {
   "cell_type": "code",
   "execution_count": 5,
   "metadata": {},
   "outputs": [],
   "source": [
    "from langchain_community.document_loaders import WebBaseLoader\n",
    "from langchain_text_splitters import RecursiveCharacterTextSplitter\n",
    "from langchain_community.embeddings import OllamaEmbeddings\n",
    "from langchain_community.vectorstores import FAISS"
   ]
  },
  {
   "cell_type": "code",
   "execution_count": 6,
   "metadata": {},
   "outputs": [
    {
     "data": {
      "text/plain": [
       "[Document(page_content=\"\\n\\n\\n\\n\\n\\n\\n\\n\\n\\n\\nF1 - The Official Home of Formula 1® Racing\\n\\n\\n\\n\\n\\n\\n\\n\\n\\n\\n\\n\\n\\n\\n\\n\\n\\n\\n\\n\\n\\n\\n\\n\\n\\n\\n\\n\\n\\n\\n\\n\\n\\n\\n\\n\\n\\n\\n\\n\\n\\n\\n\\n\\n\\n\\n\\n\\n\\n\\n\\n\\n\\n\\n\\n\\n\\n\\n\\n\\n\\n\\n\\n\\n\\n\\n\\n\\n\\n\\n\\n\\n\\n\\n\\n\\n\\n\\nSkip to Global Nav\\nSkip to Primary content\\nSkip to main content\\n\\n\\n\\n\\n\\n  Formula1 ® All F1 news and results  Install\\n\\n\\n\\nToggle Navigation>\\n\\n\\n\\n\\n\\n\\n\\nLogin/Register\\nUser Options\\n\\n\\n\\n\\n\\n\\n\\n\\n\\n\\n\\n\\n\\nLatest\\n\\n\\n\\n\\n\\n\\nLatest\\nWhat is F1? \\nWhat is F1 TV? \\nGet involved \\n\\n\\n\\n\\n\\n\\n\\n\\n\\n\\nVideo\\n\\n\\n\\nF1 Unlocked\\n\\n\\n\\nSchedule\\n\\n\\n\\n\\n\\n\\nFull Schedule \\n2025 \\nRace Programmes \\n\\n\\n\\n\\n\\n\\n\\n\\n\\n\\n\\n\\n\\n\\n\\n\\n\\n\\n\\n\\n\\n\\n\\n\\n\\n\\n\\nResults\\n\\n\\n\\n\\n\\n\\n2024 Season \\nDriver Standings \\nConstructor Standings \\nArchive 1950-2023 \\nF1 Awards \\n\\n\\n\\n\\n\\n\\n\\nDrivers\\n\\n\\n\\n\\n\\n\\nAll Drivers \\nHall of Fame \\n\\n\\n\\n\\n\\n\\nAlexander\\nAlbon\\n\\n\\n\\n\\n\\n\\n\\nFernando\\nAlonso\\n\\n\\n\\n\\n\\n\\n\\nValtteri\\nBottas\\n\\n\\n\\n\\n\\n\\n\\nPierre\\nGasly\\n\\n\\n\\n\\n\\n\\n\\nLewis\\nHamilton\\n\\n\\n\\n\\n\\n\\n\\nNico\\nHulkenberg\\n\\n\\n\\n\\n\\n\\n\\nCharles\\nLeclerc\\n\\n\\n\\n\\n\\n\\n\\nKevin\\nMagnussen\\n\\n\\n\\n\\n\\n\\n\\nLando\\nNorris\\n\\n\\n\\n\\n\\n\\n\\nEsteban\\nOcon\\n\\n\\n\\n\\n\\n\\n\\nSergio\\nPerez\\n\\n\\n\\n\\n\\n\\n\\nOscar\\nPiastri\\n\\n\\n\\n\\n\\n\\n\\nDaniel\\nRicciardo\\n\\n\\n\\n\\n\\n\\n\\nGeorge\\nRussell\\n\\n\\n\\n\\n\\n\\n\\nCarlos\\nSainz\\n\\n\\n\\n\\n\\n\\n\\nLogan\\nSargeant\\n\\n\\n\\n\\n\\n\\n\\nLance\\nStroll\\n\\n\\n\\n\\n\\n\\n\\nYuki\\nTsunoda\\n\\n\\n\\n\\n\\n\\n\\nMax\\nVerstappen\\n\\n\\n\\n\\n\\n\\n\\nGuanyu\\nZhou\\n\\n\\n\\n\\n\\n\\n\\n\\n\\n\\n\\n\\nTeams\\n\\n\\n\\n\\n\\n\\nAll Teams \\n\\n\\n\\n\\n\\nAlpine\\n\\n\\n\\n\\n\\n\\n\\n\\n\\n\\n\\n\\n\\nAston Martin\\n\\n\\n\\n\\n\\n\\n\\n\\n\\n\\n\\n\\n\\nFerrari\\n\\n\\n\\n\\n\\n\\n\\n\\n\\n\\n\\n\\n\\nHaas\\n\\n\\n\\n\\n\\n\\n\\n\\n\\n\\n\\n\\n\\nKick Sauber\\n\\n\\n\\n\\n\\n\\n\\n\\n\\n\\n\\n\\n\\nMcLaren\\n\\n\\n\\n\\n\\n\\n\\n\\n\\n\\n\\n\\n\\nMercedes\\n\\n\\n\\n\\n\\n\\n\\n\\n\\n\\n\\n\\n\\nRB\\n\\n\\n\\n\\n\\n\\n\\n\\n\\n\\n\\n\\n\\nRed Bull\\n\\n\\n\\n\\n\\n\\n\\n\\n\\n\\n\\n\\n\\nWilliams\\n\\n\\n\\n\\n\\n\\n\\n\\n\\n\\n\\n\\n\\n\\n\\n\\n\\n\\n\\nGaming\\n\\n\\n\\n\\n\\n\\nEsports \\nFantasy \\nF1 23 \\nF1 Manager 23 \\nF1 Play \\nF1 Mobile Racing \\nF1 Clash \\n\\n\\n\\n\\n\\n\\n\\nLive Timing\\n\\n\\n\\n\\n\\n\\n\\n\\n\\n\\n\\n\\n\\n\\n\\nSign In \\n\\n\\n\\nSubscribe\\nSubscribe\\nUpgrade\\n\\n\\n\\n\\n\\n\\n\\n\\n\\nAuthentics\\nStore\\nTickets\\nHospitality\\nExperiences\\n\\n\\n\\n\\n\\n\\n\\n\\n\\n\\nF1®\\n\\n\\n\\n\\nF2™\\n\\n\\n\\n\\n\\nF3™\\n\\n\\n\\n\\n\\nF1® ACADEMY\\n\\n\\n\\n\\n\\n\\n\\n\\n\\n\\n\\n\\n\\n\\n\\n\\n\\n\\n\\n\\n\\n\\n\\n\\n\\n\\n\\n\\n\\n\\n\\n\\n\\n\\n\\n\\n\\n\\n\\n\\n\\n\\n\\nGrand Prix Weekend\\n\\n\\n00\\ndays\\n\\n\\n00\\nhrs\\n\\n\\n00\\nmins\\n\\n\\n00\\nsecs\\n\\n\\n\\n\\n\\n\\n\\n\\n\\n\\n\\n\\n\\n\\n\\nJoin Live Session\\nJoin Live Session\\n\\n\\n\\n\\n\\n\\n\\n\\n\\n\\n\\nLive \\n\\n\\n--°C\\n\\n\\n\\n\\n\\nInactive\\n\\n\\n\\nRed flag\\n\\n\\n\\n\\n\\n\\n\\n\\n\\n\\n\\n\\n\\n\\n\\n\\n\\n\\n\\n\\n\\n\\n\\n\\n\\nSorry\\n Something's gone wrong \\n\\n\\n\\n\\nlap\\nrace\\n\\n\\n\\n\\n\\n00\\n00\\n\\n\\n\\n\\n\\n\\n\\n\\n\\n\\n\\n\\n\\n\\n\\n\\n\\n\\n\\n\\n\\n\\n\\n\\n\\n1\\n\\n\\n\\n\\n\\n\\n - - \\n\\n\\n\\n\\n2\\n\\n\\n\\n\\n\\n\\n - - \\n\\n\\n\\n\\n3\\n\\n\\n\\n\\n\\n\\n - - \\n\\n\\n\\n\\n\\nJoin Live Session\\nJoin Live Session\\n\\n\\n\\n\\n\\n\\n\\n\\n\\n\\n\\n                                Live Commentary\\n                            \\n\\n\\n\\n\\n\\n\\n\\n\\n\\n\\n\\n\\n\\n\\nLive blog \\n\\n\\n\\n\\n\\n\\n\\n\\n\\n\\nWatch F1 TV\\n\\n\\n\\n\\n\\n\\n\\n\\n\\n\\n\\n\\n\\n\\n\\n\\n\\n\\n\\n\\n\\n\\n\\n\\n\\n\\n\\n\\n\\n\\n\\n\\n\\n\\nRACE DEBRIEF\\n\\n\\n\\n\\n\\n\\n \\n \\n\\n\\n\\n\\n\\n\\n\\n\\n\\n\\n\\n\\n\\n\\n\\nLive\\n\\n\\n\\n\\n\\n\\n\\n\\n\\n\\n\\n\\n\\n\\n\\n\\n\\n\\n\\n\\n\\n\\n\\n\\nJoin Live Session\\n\\n\\n\\n\\n\\n\\nJoin Live Session\\n\\n\\n\\n\\n\\n\\n\\n\\n\\n\\nLive \\n\\nInactive\\n\\n\\n\\nRed flag\\n\\n\\n\\n\\n\\n\\n\\n\\n\\n\\n\\n\\n\\n\\n\\n\\n\\n\\n\\n\\n\\n\\n\\n\\n\\nSorry\\n Something's gone wrong. \\n\\n\\n\\n\\n\\n\\n\\n\\n\\n\\n\\n\\n\\n\\n\\n\\n\\n\\n\\n\\n\\n\\n1\\n\\n\\n\\n\\n\\n\\n - - \\n\\n\\n\\n\\n2\\n\\n\\n\\n\\n\\n\\n - - \\n\\n\\n\\n\\n3\\n\\n\\n\\n\\n\\n\\n - - \\n\\n\\n\\n\\n\\nJoin Live Session\\nJoin Live Session\\n\\n\\n\\n\\n\\n\\n\\n\\n\\n\\n\\n\\n\\n\\n\\n \\n\\n\\nVerify email address\\n\\nManage My Account\\nJoin Live Session\\n\\n\\nView your subscription options\\n\\nLOGOUT\\n\\n\\n\\n\\n\\n\\n\\n\\n\\n\\n\\n\\n\\n\\n\\n            googletag.cmd.push(function() { googletag.display('div-gpt-ad-1526809698178-0');});\\n    \\n\\n\\n\\n\\n\\n\\n\\n\\n\\n\\n\\n\\n\\n\\n\\n\\n\\n\\n                    \\n    \\n        Feature\\n    \\n\\n                    \\n    \\n\\n                \\nDRIVER MARKET: The F1 race winners vying for a seat with Haas for 2025\\n\\n\\n\\n\\n\\n\\n\\n\\n\\n\\n\\n\\n\\n\\n\\n\\n\\n\\n\\n\\n\\n\\n\\n\\n\\n\\n\\n\\n\\n\\n\\n\\n\\n\\n                \\n    \\n        News\\n    \\n\\n                \\n                \\n    \\n\\n            \\n'We are not robots' – Ocon confirms he will race in Canada and hits out at ‘abuse’ following Monaco crash\\n\\n\\n\\n\\n\\n\\n\\n\\n\\n\\n\\n\\n\\n\\n\\n\\n                \\n    \\n        Feature\\n    \\n\\n                \\n                \\n    \\n\\n            \\nFrom Mansell mania to Senna in Sao Paulo – The most emotional home wins in F1\\n\\n\\n\\n\\n\\n\\n\\n\\n\\n\\n\\n\\n\\n\\n\\n\\n                \\n    \\n        News\\n    \\n\\n                \\n                \\n    \\n\\n            \\nEA Sports' F1 24 launches with reimagined 'Career Mode', updated circuits and more new features\\n\\n\\n\\n\\n\\n\\n\\n\\n\\n\\n\\n\\n\\n\\n\\n\\n                \\n    \\n        News\\n    \\n\\n                \\n                \\n    \\n\\n            \\nAllison says Mercedes junior Antonelli ‘looks like the real deal’ as he assesses recent F1 test runs\\n\\n\\n\\n\\n\\n\\n\\n\\n\\n\\n\\n\\n\\n\\n\\n\\n                \\n    \\n        Feature\\n    \\n\\n                \\n                \\n    \\n\\n            \\nCrypto.com Overtake of the Month Award - Vote for your favourite move now!\\n\\n\\n\\n\\n\\n\\n\\n\\n\\n\\n\\n\\n\\n\\n\\n\\n                \\n    \\n        News\\n    \\n\\n                \\n                \\n    \\n\\n            \\nVerstappen responds to more questions about his F1 future as he insists change of teams ‘not on my mind’\\n\\n\\n\\n\\nView Latest News \\n\\n\\n\\n\\n\\n\\n\\n\\n\\n\\n\\n\\n\\n\\n\\n\\n\\nJolyon Palmer's Analysis: First Lap Fracas in Monaco\\nF1 TV's Jolyon Palmer looks at lap 1 of the 2024 Monaco Grand Prix and asks what the drivers could have done to avoid those race-ending collisions.\\nWATCH NOW\\n\\n\\n\\n\\n\\n\\n\\n\\n\\n\\n    \\n        Editor's Picks\\n    \\n\\n\\n\\n\\n\\n\\n\\n\\n\\n\\n\\n\\n\\n\\n\\n\\n                \\n    \\n        Video\\n    \\n\\n                \\n                \\n    \\n\\n            \\nWATCH: F1 for beginners – Everything you need to know about F1\\n\\n\\n\\n\\n\\n\\n\\n\\n\\n\\n\\n\\n\\n\\n\\n\\n\\n\\n                \\n    \\n        News\\n    \\n\\n                \\n\\nWolff responds to Hamilton’s comments about Russell qualifying ahead of him\\n\\n\\n\\n\\n\\n\\n\\n\\n\\n\\n\\n\\n\\n\\n\\n\\n\\n                \\n    \\n        Podcast\\n    \\n\\n                \\n\\nF1 EXPLAINS: How F1 video games are so realistic – with EA Sports' F1 24\\n\\n\\n\\n\\n\\n\\n\\n                \\n    \\n        Opinion\\n    \\n\\n                \\n                \\n    F1 Unlocked\\n\\nPALMER: Ocon’s Monaco lunge on Gasly didn’t deserve a penalty – but it was madness to try it on his team mate\\n\\n\\n\\n\\n\\n\\n\\n                \\n    \\n        Feature\\n    \\n\\n                \\n                \\n    F1 Unlocked\\n\\nTHIS WEEK IN F1: 10 tricky quiz questions on the Monaco Grand Prix\\n\\n\\n\\n\\n\\n\\n\\n\\n\\n\\n\\n\\n\\n\\n\\n\\n\\n\\n\\n\\n\\n\\nFrom heartbreak to euphoria: Charles Leclerc breaks the Monaco curse\\nAfter a host of near misses, Charles Leclerc finally claimed his maiden Monaco Grand Prix victory\\nWATCH NOW\\n\\n\\n\\n\\n\\n\\n\\n\\n\\n\\n        More news\\n\\n\\n\\n\\n\\n\\n\\n\\n\\n\\n\\n\\n\\n\\n\\n\\n\\n\\n\\n\\n                \\n    \\n        News\\n    \\n\\n                \\n                \\n    \\n\\n            \\nRB boss Bayer hails Tsunoda for ‘big step forward’ in 2024 as he makes statement on his future\\n\\n\\n\\n\\n\\n\\n\\n\\n\\n\\n\\n\\n\\n\\n\\n\\n                \\n    \\n        Feature\\n    \\n\\n                \\n                \\n    F1 Unlocked\\n\\nHINCH'S HEROES: Who does IndyCar star James Hinchcliffe reckon was magic in Monaco?\\n\\n\\n\\n\\n\\n\\n\\n\\n\\n\\n\\n\\n\\n\\n\\n\\n                \\n    \\n        News\\n    \\n\\n                \\n                \\n    \\n\\n            \\nRussell shares why Mercedes are feeling ‘very confident’ for 2026 power unit regulations\\n\\n\\n\\n\\n\\n\\n\\n\\n\\n\\n\\n\\n\\n\\n\\n\\n                \\n    \\n        News\\n    \\n\\n                \\n                \\n    \\n\\n            \\nFerrari facing ‘unavoidable’ title race consideration after Leclerc’s Monaco win, says team ambassador Gene\\n\\n\\n\\n\\n\\n\\n\\n\\n\\n\\n\\n\\n\\n\\n            googletag.cmd.push(function() { googletag.display('div-gpt-ad-1526809698178-1');});\\n    \\n\\n\\n\\n\\n\\n\\n\\n\\n\\n\\n\\xa0Sync Calendar\\n\\n\\n\\n\\n\\n\\n\\n\\n\\nBahrain\\n\\n\\n\\n\\nFORMULA 1 GULF AIR BAHRAIN GRAND PRIX 2024\\n\\n\\n                                29 Feb 2024\\n                            \\n                        \\n                        -\\n                        \\n                            \\n                                02 Mar 2024\\n                            \\n\\n\\n\\n\\n\\n\\n\\nRolex, Formula 1 official timepiece\\n\\n\\n\\n\\n\\n\\n\\n\\n\\n\\n\\n\\n\\xa0Sync Calendar\\n\\n\\n\\nConvert to my time\\nConvert to track time\\n\\n\\n\\n\\n\\n\\n\\n\\nPractice 1\\n\\n            Thu\\n        \\n\\n\\n                14:30\\n            \\n            –\\n            \\n                15:30\\n            \\n\\n\\n\\nPractice 2\\n\\n            Thu\\n        \\n\\n\\n                18:00\\n            \\n            –\\n            \\n                19:00\\n            \\n\\n\\n\\nPractice 3\\n\\n            Fri\\n        \\n\\n\\n                15:30\\n            \\n            –\\n            \\n                16:30\\n            \\n\\n\\n\\n\\n\\nQualifying\\n\\n            Fri\\n        \\n\\n\\n                19:00\\n            \\n            –\\n            \\n                20:00\\n            \\n\\n\\n\\nRace\\n\\n            Sat\\n        \\n\\n            18:00\\n        \\n\\n\\n\\n\\n\\n\\n\\n\\n                02\\n            \\n\\n                Mar\\n            \\n\\n\\n\\n\\n\\n\\n\\nSaudi Arabia\\n\\n\\n\\n\\nFORMULA 1 STC SAUDI ARABIAN GRAND PRIX 2024\\n\\n\\n                                07 Mar 2024\\n                            \\n                        \\n                        -\\n                        \\n                            \\n                                09 Mar 2024\\n                            \\n\\n\\n\\n\\n\\n\\n\\nRolex, Formula 1 official timepiece\\n\\n\\n\\n\\n\\n\\n\\n\\n\\n\\n\\n\\n\\xa0Sync Calendar\\n\\n\\n\\nConvert to my time\\nConvert to track time\\n\\n\\n\\n\\n\\n\\n\\n\\nPractice 1\\n\\n            Thu\\n        \\n\\n\\n                16:30\\n            \\n            –\\n            \\n                17:30\\n            \\n\\n\\n\\nPractice 2\\n\\n            Thu\\n        \\n\\n\\n                20:00\\n            \\n            –\\n            \\n                21:00\\n            \\n\\n\\n\\nPractice 3\\n\\n            Fri\\n        \\n\\n\\n                16:30\\n            \\n            –\\n            \\n                17:30\\n            \\n\\n\\n\\n\\n\\nQualifying\\n\\n            Fri\\n        \\n\\n\\n                20:00\\n            \\n            –\\n            \\n                21:00\\n            \\n\\n\\n\\nRace\\n\\n            Sat\\n        \\n\\n            20:00\\n        \\n\\n\\n\\n\\n\\n\\n\\n\\n                09\\n            \\n\\n                Mar\\n            \\n\\n\\n\\n\\n\\n\\n\\nAustralia\\n\\n\\n\\n\\nFORMULA 1 ROLEX AUSTRALIAN GRAND PRIX 2024\\n\\n\\n                                22 Mar 2024\\n                            \\n                        \\n                        -\\n                        \\n                            \\n                                24 Mar 2024\\n                            \\n\\n\\n\\n\\n\\n\\n\\nRolex, Formula 1 official timepiece\\n\\n\\n\\n\\n\\n\\n\\n\\n\\n\\n\\n\\n\\xa0Sync Calendar\\n\\n\\n\\nConvert to my time\\nConvert to track time\\n\\n\\n\\n\\n\\n\\n\\n\\nPractice 1\\n\\n            Fri\\n        \\n\\n\\n                12:30\\n            \\n            –\\n            \\n                13:30\\n            \\n\\n\\n\\nPractice 2\\n\\n            Fri\\n        \\n\\n\\n                16:00\\n            \\n            –\\n            \\n                17:00\\n            \\n\\n\\n\\nPractice 3\\n\\n            Sat\\n        \\n\\n\\n                12:30\\n            \\n            –\\n            \\n                13:30\\n            \\n\\n\\n\\n\\n\\nQualifying\\n\\n            Sat\\n        \\n\\n\\n                16:00\\n            \\n            –\\n            \\n                17:00\\n            \\n\\n\\n\\nRace\\n\\n            Sun\\n        \\n\\n            15:00\\n        \\n\\n\\n\\n\\n\\n\\n\\n\\n                24\\n            \\n\\n                Mar\\n            \\n\\n\\n\\n\\n\\n\\n\\nJapan\\n\\n\\n\\n\\nFORMULA 1 MSC CRUISES JAPANESE GRAND PRIX 2024\\n\\n\\n                                05 Apr 2024\\n                            \\n                        \\n                        -\\n                        \\n                            \\n                                07 Apr 2024\\n                            \\n\\n\\n\\n\\n\\n\\n\\nRolex, Formula 1 official timepiece\\n\\n\\n\\n\\n\\n\\n\\n\\n\\n\\n\\n\\n\\xa0Sync Calendar\\n\\n\\n\\nConvert to my time\\nConvert to track time\\n\\n\\n\\n\\n\\n\\n\\n\\nPractice 1\\n\\n            Fri\\n        \\n\\n\\n                11:30\\n            \\n            –\\n            \\n                12:30\\n            \\n\\n\\n\\nPractice 2\\n\\n            Fri\\n        \\n\\n\\n                15:00\\n            \\n            –\\n            \\n                16:00\\n            \\n\\n\\n\\nPractice 3\\n\\n            Sat\\n        \\n\\n\\n                11:30\\n            \\n            –\\n            \\n                12:30\\n            \\n\\n\\n\\n\\n\\nQualifying\\n\\n            Sat\\n        \\n\\n\\n                15:00\\n            \\n            –\\n            \\n                16:00\\n            \\n\\n\\n\\nRace\\n\\n            Sun\\n        \\n\\n            14:00\\n        \\n\\n\\n\\n\\n\\n\\n\\n\\n                07\\n            \\n\\n                Apr\\n            \\n\\n\\n\\n\\n\\n\\n\\nChina\\n\\n\\n\\n\\nFORMULA 1 LENOVO CHINESE GRAND PRIX 2024\\n\\n\\n                                19 Apr 2024\\n                            \\n                        \\n                        -\\n                        \\n                            \\n                                21 Apr 2024\\n                            \\n\\n\\n\\n\\n\\n\\n\\nRolex, Formula 1 official timepiece\\n\\n\\n\\n\\n\\n\\n\\n\\n\\n\\n\\n\\n\\xa0Sync Calendar\\n\\n\\n\\nConvert to my time\\nConvert to track time\\n\\n\\n\\n\\n\\n\\n\\n\\nPractice 1\\n\\n            Fri\\n        \\n\\n\\n                11:30\\n            \\n            –\\n            \\n                12:30\\n            \\n\\n\\n\\nSprint Qualifying\\n\\n            Fri\\n        \\n\\n\\n                15:30\\n            \\n            –\\n            \\n                16:14\\n            \\n\\n\\n\\nSprint\\n\\n            Sat\\n        \\n\\n\\n                11:00\\n            \\n            –\\n            \\n                12:00\\n            \\n\\n\\n\\n\\n\\nQualifying\\n\\n            Sat\\n        \\n\\n\\n                15:00\\n            \\n            –\\n            \\n                16:00\\n            \\n\\n\\n\\nRace\\n\\n            Sun\\n        \\n\\n            15:00\\n        \\n\\n\\n\\n\\n\\n\\n\\n\\n                21\\n            \\n\\n                Apr\\n            \\n\\n\\n\\n\\n\\n\\n\\nUnited States\\n\\n\\n\\n\\nFORMULA 1 CRYPTO.COM MIAMI GRAND PRIX 2024\\n\\n\\n                                03 May 2024\\n                            \\n                        \\n                        -\\n                        \\n                            \\n                                05 May 2024\\n                            \\n\\n\\n\\n\\n\\n\\n\\nRolex, Formula 1 official timepiece\\n\\n\\n\\n\\n\\n\\n\\n\\n\\n\\n\\n\\n\\xa0Sync Calendar\\n\\n\\n\\nConvert to my time\\nConvert to track time\\n\\n\\n\\n\\n\\n\\n\\n\\nPractice 1\\n\\n            Fri\\n        \\n\\n\\n                12:30\\n            \\n            –\\n            \\n                13:30\\n            \\n\\n\\n\\nSprint Qualifying\\n\\n            Fri\\n        \\n\\n\\n                16:30\\n            \\n            –\\n            \\n                17:14\\n            \\n\\n\\n\\nSprint\\n\\n            Sat\\n        \\n\\n\\n                12:00\\n            \\n            –\\n            \\n                13:00\\n            \\n\\n\\n\\n\\n\\nQualifying\\n\\n            Sat\\n        \\n\\n\\n                16:00\\n            \\n            –\\n            \\n                17:00\\n            \\n\\n\\n\\nRace\\n\\n            Sun\\n        \\n\\n            16:00\\n        \\n\\n\\n\\n\\n\\n\\n\\n\\n                05\\n            \\n\\n                May\\n            \\n\\n\\n\\n\\n\\n\\n\\nItaly\\n\\n\\n\\n\\nFORMULA 1 MSC CRUISES GRAN PREMIO DEL MADE IN ITALY E DELL'EMILIA-ROMAGNA 2024\\n\\n\\n                                17 May 2024\\n                            \\n                        \\n                        -\\n                        \\n                            \\n                                19 May 2024\\n                            \\n\\n\\n\\n\\n\\n\\n\\nRolex, Formula 1 official timepiece\\n\\n\\n\\n\\n\\n\\n\\n\\n\\n\\n\\n\\n\\xa0Sync Calendar\\n\\n\\n\\nConvert to my time\\nConvert to track time\\n\\n\\n\\n\\n\\n\\n\\n\\nPractice 1\\n\\n            Fri\\n        \\n\\n\\n                13:30\\n            \\n            –\\n            \\n                14:30\\n            \\n\\n\\n\\nPractice 2\\n\\n            Fri\\n        \\n\\n\\n                17:00\\n            \\n            –\\n            \\n                18:00\\n            \\n\\n\\n\\nPractice 3\\n\\n            Sat\\n        \\n\\n\\n                12:30\\n            \\n            –\\n            \\n                13:30\\n            \\n\\n\\n\\n\\n\\nQualifying\\n\\n            Sat\\n        \\n\\n\\n                16:00\\n            \\n            –\\n            \\n                17:00\\n            \\n\\n\\n\\nRace\\n\\n            Sun\\n        \\n\\n            15:00\\n        \\n\\n\\n\\n\\n\\n\\n\\n\\n                19\\n            \\n\\n                May\\n            \\n\\n\\n\\n\\n\\n\\n\\nMonaco\\n\\n\\n\\n\\nFORMULA 1 GRAND PRIX DE MONACO 2024\\n\\n\\n                                24 May 2024\\n                            \\n                        \\n                        -\\n                        \\n                            \\n                                26 May 2024\\n                            \\n\\n\\n\\n\\n\\n\\n\\nRolex, Formula 1 official timepiece\\n\\n\\n\\n\\n\\n\\n\\n\\n\\n\\n\\n\\n\\xa0Sync Calendar\\n\\n\\n\\nConvert to my time\\nConvert to track time\\n\\n\\n\\n\\n\\n\\n\\n\\nPractice 1\\n\\n            Fri\\n        \\n\\n\\n                13:30\\n            \\n            –\\n            \\n                14:30\\n            \\n\\n\\n\\nPractice 2\\n\\n            Fri\\n        \\n\\n\\n                17:00\\n            \\n            –\\n            \\n                18:00\\n            \\n\\n\\n\\nPractice 3\\n\\n            Sat\\n        \\n\\n\\n                12:30\\n            \\n            –\\n            \\n                13:30\\n            \\n\\n\\n\\n\\n\\nQualifying\\n\\n            Sat\\n        \\n\\n\\n                16:00\\n            \\n            –\\n            \\n                17:00\\n            \\n\\n\\n\\nRace\\n\\n            Sun\\n        \\n\\n            15:00\\n        \\n\\n\\n\\n\\n\\n\\n\\n\\n                26\\n            \\n\\n                May\\n            \\n\\n\\n\\n\\n\\n\\n\\nCanada\\n\\n\\n\\n\\nFORMULA 1 AWS GRAND PRIX DU CANADA 2024\\n\\n\\n                                07 Jun 2024\\n                            \\n                        \\n                        -\\n                        \\n                            \\n                                09 Jun 2024\\n                            \\n\\n\\n\\n\\n\\n\\n\\nRolex, Formula 1 official timepiece\\n\\n\\n\\n\\n\\n\\n\\n\\n\\n\\n\\n\\n\\xa0Sync Calendar\\n\\n\\n\\nConvert to my time\\nConvert to track time\\n\\n\\n\\n\\n\\n\\n\\n\\nPractice 1\\n\\n            Fri\\n        \\n\\n\\n                13:30\\n            \\n            –\\n            \\n                14:30\\n            \\n\\n\\n\\nPractice 2\\n\\n            Fri\\n        \\n\\n\\n                17:00\\n            \\n            –\\n            \\n                18:00\\n            \\n\\n\\n\\nPractice 3\\n\\n            Sat\\n        \\n\\n\\n                12:30\\n            \\n            –\\n            \\n                13:30\\n            \\n\\n\\n\\n\\n\\nQualifying\\n\\n            Sat\\n        \\n\\n\\n                16:00\\n            \\n            –\\n            \\n                17:00\\n            \\n\\n\\n\\nRace\\n\\n            Sun\\n        \\n\\n            14:00\\n        \\n\\n\\n\\n\\n\\n\\n\\n\\n                09\\n            \\n\\n                Jun\\n            \\n\\n\\n\\n\\n\\n\\n\\nSpain\\n\\n\\n\\n\\nFORMULA 1 ARAMCO GRAN PREMIO DE ESPAÑA 2024\\n\\n\\n                                21 Jun 2024\\n                            \\n                        \\n                        -\\n                        \\n                            \\n                                23 Jun 2024\\n                            \\n\\n\\n\\n\\n\\n\\n\\nRolex, Formula 1 official timepiece\\n\\n\\n\\n\\n\\n\\n\\n\\n\\n\\n\\n\\n\\xa0Sync Calendar\\n\\n\\n\\nConvert to my time\\nConvert to track time\\n\\n\\n\\n\\n\\n\\n\\n\\nPractice 1\\n\\n            Fri\\n        \\n\\n\\n                13:30\\n            \\n            –\\n            \\n                14:30\\n            \\n\\n\\n\\nPractice 2\\n\\n            Fri\\n        \\n\\n\\n                17:00\\n            \\n            –\\n            \\n                18:00\\n            \\n\\n\\n\\nPractice 3\\n\\n            Sat\\n        \\n\\n\\n                12:30\\n            \\n            –\\n            \\n                13:30\\n            \\n\\n\\n\\n\\n\\nQualifying\\n\\n            Sat\\n        \\n\\n\\n                16:00\\n            \\n            –\\n            \\n                17:00\\n            \\n\\n\\n\\nRace\\n\\n            Sun\\n        \\n\\n            15:00\\n        \\n\\n\\n\\n\\n\\n\\n\\n\\n                23\\n            \\n\\n                Jun\\n            \\n\\n\\n\\n\\n\\n\\n\\nAustria\\n\\n\\n\\n\\nFORMULA 1 QATAR AIRWAYS AUSTRIAN GRAND PRIX 2024\\n\\n\\n                                28 Jun 2024\\n                            \\n                        \\n                        -\\n                        \\n                            \\n                                30 Jun 2024\\n                            \\n\\n\\n\\n\\n\\n\\n\\nRolex, Formula 1 official timepiece\\n\\n\\n\\n\\n\\n\\n\\n\\n\\n\\n\\n\\n\\xa0Sync Calendar\\n\\n\\n\\nConvert to my time\\nConvert to track time\\n\\n\\n\\n\\n\\n\\n\\n\\nPractice 1\\n\\n            Fri\\n        \\n\\n\\n                12:30\\n            \\n            –\\n            \\n                13:30\\n            \\n\\n\\n\\nSprint Qualifying\\n\\n            Fri\\n        \\n\\n\\n                16:30\\n            \\n            –\\n            \\n                17:14\\n            \\n\\n\\n\\nSprint\\n\\n            Sat\\n        \\n\\n\\n                12:00\\n            \\n            –\\n            \\n                13:00\\n            \\n\\n\\n\\n\\n\\nQualifying\\n\\n            Sat\\n        \\n\\n\\n                16:00\\n            \\n            –\\n            \\n                17:00\\n            \\n\\n\\n\\nRace\\n\\n            Sun\\n        \\n\\n            15:00\\n        \\n\\n\\n\\n\\n\\n\\n\\n\\n                30\\n            \\n\\n                Jun\\n            \\n\\n\\n\\n\\n\\n\\n\\nGreat Britain\\n\\n\\n\\n\\nFORMULA 1 QATAR AIRWAYS BRITISH GRAND PRIX 2024\\n\\n\\n                                05 Jul 2024\\n                            \\n                        \\n                        -\\n                        \\n                            \\n                                07 Jul 2024\\n                            \\n\\n\\n\\n\\n\\n\\n\\nRolex, Formula 1 official timepiece\\n\\n\\n\\n\\n\\n\\n\\n\\n\\n\\n\\n\\n\\xa0Sync Calendar\\n\\n\\n\\nConvert to my time\\nConvert to track time\\n\\n\\n\\n\\n\\n\\n\\n\\nPractice 1\\n\\n            Fri\\n        \\n\\n\\n                12:30\\n            \\n            –\\n            \\n                13:30\\n            \\n\\n\\n\\nPractice 2\\n\\n            Fri\\n        \\n\\n\\n                16:00\\n            \\n            –\\n            \\n                17:00\\n            \\n\\n\\n\\nPractice 3\\n\\n            Sat\\n        \\n\\n\\n                11:30\\n            \\n            –\\n            \\n                12:30\\n            \\n\\n\\n\\n\\n\\nQualifying\\n\\n            Sat\\n        \\n\\n\\n                15:00\\n            \\n            –\\n            \\n                16:00\\n            \\n\\n\\n\\nRace\\n\\n            Sun\\n        \\n\\n            15:00\\n        \\n\\n\\n\\n\\n\\n\\n\\n\\n                07\\n            \\n\\n                Jul\\n            \\n\\n\\n\\n\\n\\n\\n\\nHungary\\n\\n\\n\\n\\nFORMULA 1 HUNGARIAN GRAND PRIX 2024\\n\\n\\n                                19 Jul 2024\\n                            \\n                        \\n                        -\\n                        \\n                            \\n                                21 Jul 2024\\n                            \\n\\n\\n\\n\\n\\n\\n\\nRolex, Formula 1 official timepiece\\n\\n\\n\\n\\n\\n\\n\\n\\n\\n\\n\\n\\n\\xa0Sync Calendar\\n\\n\\n\\nConvert to my time\\nConvert to track time\\n\\n\\n\\n\\n\\n\\n\\n\\nPractice 1\\n\\n            Fri\\n        \\n\\n\\n                13:30\\n            \\n            –\\n            \\n                14:30\\n            \\n\\n\\n\\nPractice 2\\n\\n            Fri\\n        \\n\\n\\n                17:00\\n            \\n            –\\n            \\n                18:00\\n            \\n\\n\\n\\nPractice 3\\n\\n            Sat\\n        \\n\\n\\n                12:30\\n            \\n            –\\n            \\n                13:30\\n            \\n\\n\\n\\n\\n\\nQualifying\\n\\n            Sat\\n        \\n\\n\\n                16:00\\n            \\n            –\\n            \\n                17:00\\n            \\n\\n\\n\\nRace\\n\\n            Sun\\n        \\n\\n            15:00\\n        \\n\\n\\n\\n\\n\\n\\n\\n\\n                21\\n            \\n\\n                Jul\\n            \\n\\n\\n\\n\\n\\n\\n\\nBelgium\\n\\n\\n\\n\\nFORMULA 1 ROLEX BELGIAN GRAND PRIX 2024\\n\\n\\n                                26 Jul 2024\\n                            \\n                        \\n                        -\\n                        \\n                            \\n                                28 Jul 2024\\n                            \\n\\n\\n\\n\\n\\n\\n\\nRolex, Formula 1 official timepiece\\n\\n\\n\\n\\n\\n\\n\\n\\n\\n\\n\\n\\n\\xa0Sync Calendar\\n\\n\\n\\nConvert to my time\\nConvert to track time\\n\\n\\n\\n\\n\\n\\n\\n\\nPractice 1\\n\\n            Fri\\n        \\n\\n\\n                13:30\\n            \\n            –\\n            \\n                14:30\\n            \\n\\n\\n\\nPractice 2\\n\\n            Fri\\n        \\n\\n\\n                17:00\\n            \\n            –\\n            \\n                18:00\\n            \\n\\n\\n\\nPractice 3\\n\\n            Sat\\n        \\n\\n\\n                12:30\\n            \\n            –\\n            \\n                13:30\\n            \\n\\n\\n\\n\\n\\nQualifying\\n\\n            Sat\\n        \\n\\n\\n                16:00\\n            \\n            –\\n            \\n                17:00\\n            \\n\\n\\n\\nRace\\n\\n            Sun\\n        \\n\\n            15:00\\n        \\n\\n\\n\\n\\n\\n\\n\\n\\n                28\\n            \\n\\n                Jul\\n            \\n\\n\\n\\n\\n\\n\\n\\nNetherlands\\n\\n\\n\\n\\nFORMULA 1 HEINEKEN DUTCH GRAND PRIX 2024\\n\\n\\n                                23 Aug 2024\\n                            \\n                        \\n                        -\\n                        \\n                            \\n                                25 Aug 2024\\n                            \\n\\n\\n\\n\\n\\n\\n\\nRolex, Formula 1 official timepiece\\n\\n\\n\\n\\n\\n\\n\\n\\n\\n\\n\\n\\n\\xa0Sync Calendar\\n\\n\\n\\nConvert to my time\\nConvert to track time\\n\\n\\n\\n\\n\\n\\n\\n\\nPractice 1\\n\\n            Fri\\n        \\n\\n\\n                12:30\\n            \\n            –\\n            \\n                13:30\\n            \\n\\n\\n\\nPractice 2\\n\\n            Fri\\n        \\n\\n\\n                16:00\\n            \\n            –\\n            \\n                17:00\\n            \\n\\n\\n\\nPractice 3\\n\\n            Sat\\n        \\n\\n\\n                11:30\\n            \\n            –\\n            \\n                12:30\\n            \\n\\n\\n\\n\\n\\nQualifying\\n\\n            Sat\\n        \\n\\n\\n                15:00\\n            \\n            –\\n            \\n                16:00\\n            \\n\\n\\n\\nRace\\n\\n            Sun\\n        \\n\\n            15:00\\n        \\n\\n\\n\\n\\n\\n\\n\\n\\n                25\\n            \\n\\n                Aug\\n            \\n\\n\\n\\n\\n\\n\\n\\nItaly\\n\\n\\n\\n\\nFORMULA 1 PIRELLI GRAN PREMIO D’ITALIA 2024\\n\\n\\n                                30 Aug 2024\\n                            \\n                        \\n                        -\\n                        \\n                            \\n                                01 Sep 2024\\n                            \\n\\n\\n\\n\\n\\n\\n\\nRolex, Formula 1 official timepiece\\n\\n\\n\\n\\n\\n\\n\\n\\n\\n\\n\\n\\n\\xa0Sync Calendar\\n\\n\\n\\nConvert to my time\\nConvert to track time\\n\\n\\n\\n\\n\\n\\n\\n\\nPractice 1\\n\\n            Fri\\n        \\n\\n\\n                13:30\\n            \\n            –\\n            \\n                14:30\\n            \\n\\n\\n\\nPractice 2\\n\\n            Fri\\n        \\n\\n\\n                17:00\\n            \\n            –\\n            \\n                18:00\\n            \\n\\n\\n\\nPractice 3\\n\\n            Sat\\n        \\n\\n\\n                12:30\\n            \\n            –\\n            \\n                13:30\\n            \\n\\n\\n\\n\\n\\nQualifying\\n\\n            Sat\\n        \\n\\n\\n                16:00\\n            \\n            –\\n            \\n                17:00\\n            \\n\\n\\n\\nRace\\n\\n            Sun\\n        \\n\\n            15:00\\n        \\n\\n\\n\\n\\n\\n\\n\\n\\n                01\\n            \\n\\n                Sep\\n            \\n\\n\\n\\n\\n\\n\\n\\nAzerbaijan\\n\\n\\n\\n\\nFORMULA 1 QATAR AIRWAYS AZERBAIJAN GRAND PRIX 2024\\n\\n\\n                                13 Sep 2024\\n                            \\n                        \\n                        -\\n                        \\n                            \\n                                15 Sep 2024\\n                            \\n\\n\\n\\n\\n\\n\\n\\nRolex, Formula 1 official timepiece\\n\\n\\n\\n\\n\\n\\n\\n\\n\\n\\n\\n\\n\\xa0Sync Calendar\\n\\n\\n\\nConvert to my time\\nConvert to track time\\n\\n\\n\\n\\n\\n\\n\\n\\nPractice 1\\n\\n            Fri\\n        \\n\\n\\n                13:30\\n            \\n            –\\n            \\n                14:30\\n            \\n\\n\\n\\nPractice 2\\n\\n            Fri\\n        \\n\\n\\n                17:00\\n            \\n            –\\n            \\n                18:00\\n            \\n\\n\\n\\nPractice 3\\n\\n            Sat\\n        \\n\\n\\n                12:30\\n            \\n            –\\n            \\n                13:30\\n            \\n\\n\\n\\n\\n\\nQualifying\\n\\n            Sat\\n        \\n\\n\\n                16:00\\n            \\n            –\\n            \\n                17:00\\n            \\n\\n\\n\\nRace\\n\\n            Sun\\n        \\n\\n            15:00\\n        \\n\\n\\n\\n\\n\\n\\n\\n\\n                15\\n            \\n\\n                Sep\\n            \\n\\n\\n\\n\\n\\n\\n\\nSingapore\\n\\n\\n\\n\\nFORMULA 1 SINGAPORE AIRLINES SINGAPORE GRAND PRIX 2024\\n\\n\\n                                20 Sep 2024\\n                            \\n                        \\n                        -\\n                        \\n                            \\n                                22 Sep 2024\\n                            \\n\\n\\n\\n\\n\\n\\n\\nRolex, Formula 1 official timepiece\\n\\n\\n\\n\\n\\n\\n\\n\\n\\n\\n\\n\\n\\xa0Sync Calendar\\n\\n\\n\\nConvert to my time\\nConvert to track time\\n\\n\\n\\n\\n\\n\\n\\n\\nPractice 1\\n\\n            Fri\\n        \\n\\n\\n                17:30\\n            \\n            –\\n            \\n                18:30\\n            \\n\\n\\n\\nPractice 2\\n\\n            Fri\\n        \\n\\n\\n                21:00\\n            \\n            –\\n            \\n                22:00\\n            \\n\\n\\n\\nPractice 3\\n\\n            Sat\\n        \\n\\n\\n                17:30\\n            \\n            –\\n            \\n                18:30\\n            \\n\\n\\n\\n\\n\\nQualifying\\n\\n            Sat\\n        \\n\\n\\n                21:00\\n            \\n            –\\n            \\n                22:00\\n            \\n\\n\\n\\nRace\\n\\n            Sun\\n        \\n\\n            20:00\\n        \\n\\n\\n\\n\\n\\n\\n\\n\\n                22\\n            \\n\\n                Sep\\n            \\n\\n\\n\\n\\n\\n\\n\\nUnited States\\n\\n\\n\\n\\nFORMULA 1 PIRELLI UNITED STATES GRAND PRIX 2024\\n\\n\\n                                18 Oct 2024\\n                            \\n                        \\n                        -\\n                        \\n                            \\n                                20 Oct 2024\\n                            \\n\\n\\n\\n\\n\\n\\n\\nRolex, Formula 1 official timepiece\\n\\n\\n\\n\\n\\n\\n\\n\\n\\n\\n\\n\\n\\xa0Sync Calendar\\n\\n\\n\\nConvert to my time\\nConvert to track time\\n\\n\\n\\n\\n\\n\\n\\n\\nPractice 1\\n\\n            Fri\\n        \\n\\n\\n                12:30\\n            \\n            –\\n            \\n                13:30\\n            \\n\\n\\n\\nSprint Qualifying\\n\\n            Fri\\n        \\n\\n\\n                16:30\\n            \\n            –\\n            \\n                17:14\\n            \\n\\n\\n\\nSprint\\n\\n            Sat\\n        \\n\\n\\n                13:00\\n            \\n            –\\n            \\n                14:00\\n            \\n\\n\\n\\n\\n\\nQualifying\\n\\n            Sat\\n        \\n\\n\\n                17:00\\n            \\n            –\\n            \\n                18:00\\n            \\n\\n\\n\\nRace\\n\\n            Sun\\n        \\n\\n            14:00\\n        \\n\\n\\n\\n\\n\\n\\n\\n\\n                20\\n            \\n\\n                Oct\\n            \\n\\n\\n\\n\\n\\n\\n\\nMexico\\n\\n\\n\\n\\nFORMULA 1 GRAN PREMIO DE LA CIUDAD DE MÉXICO 2024\\n\\n\\n                                25 Oct 2024\\n                            \\n                        \\n                        -\\n                        \\n                            \\n                                27 Oct 2024\\n                            \\n\\n\\n\\n\\n\\n\\n\\nRolex, Formula 1 official timepiece\\n\\n\\n\\n\\n\\n\\n\\n\\n\\n\\n\\n\\n\\xa0Sync Calendar\\n\\n\\n\\nConvert to my time\\nConvert to track time\\n\\n\\n\\n\\n\\n\\n\\n\\nPractice 1\\n\\n            Fri\\n        \\n\\n\\n                12:30\\n            \\n            –\\n            \\n                13:30\\n            \\n\\n\\n\\nPractice 2\\n\\n            Fri\\n        \\n\\n\\n                16:00\\n            \\n            –\\n            \\n                17:00\\n            \\n\\n\\n\\nPractice 3\\n\\n            Sat\\n        \\n\\n\\n                11:30\\n            \\n            –\\n            \\n                12:30\\n            \\n\\n\\n\\n\\n\\nQualifying\\n\\n            Sat\\n        \\n\\n\\n                15:00\\n            \\n            –\\n            \\n                16:00\\n            \\n\\n\\n\\nRace\\n\\n            Sun\\n        \\n\\n            14:00\\n        \\n\\n\\n\\n\\n\\n\\n\\n\\n                27\\n            \\n\\n                Oct\\n            \\n\\n\\n\\n\\n\\n\\n\\nBrazil\\n\\n\\n\\n\\nFORMULA 1 LENOVO GRANDE PRÊMIO DE SÃO PAULO 2024\\n\\n\\n                                01 Nov 2024\\n                            \\n                        \\n                        -\\n                        \\n                            \\n                                03 Nov 2024\\n                            \\n\\n\\n\\n\\n\\n\\n\\nRolex, Formula 1 official timepiece\\n\\n\\n\\n\\n\\n\\n\\n\\n\\n\\n\\n\\n\\xa0Sync Calendar\\n\\n\\n\\nConvert to my time\\nConvert to track time\\n\\n\\n\\n\\n\\n\\n\\n\\nPractice 1\\n\\n            Fri\\n        \\n\\n\\n                11:30\\n            \\n            –\\n            \\n                12:30\\n            \\n\\n\\n\\nSprint Qualifying\\n\\n            Fri\\n        \\n\\n\\n                15:30\\n            \\n            –\\n            \\n                16:14\\n            \\n\\n\\n\\nSprint\\n\\n            Sat\\n        \\n\\n\\n                11:00\\n            \\n            –\\n            \\n                12:00\\n            \\n\\n\\n\\n\\n\\nQualifying\\n\\n            Sat\\n        \\n\\n\\n                15:00\\n            \\n            –\\n            \\n                16:00\\n            \\n\\n\\n\\nRace\\n\\n            Sun\\n        \\n\\n            14:00\\n        \\n\\n\\n\\n\\n\\n\\n\\n\\n                03\\n            \\n\\n                Nov\\n            \\n\\n\\n\\n\\n\\n\\n\\nUnited States\\n\\n\\n\\n\\nFORMULA 1 HEINEKEN SILVER LAS VEGAS GRAND PRIX 2024\\n\\n\\n                                21 Nov 2024\\n                            \\n                        \\n                        -\\n                        \\n                            \\n                                23 Nov 2024\\n                            \\n\\n\\n\\n\\n\\n\\n\\nRolex, Formula 1 official timepiece\\n\\n\\n\\n\\n\\n\\n\\n\\n\\n\\n\\n\\n\\xa0Sync Calendar\\n\\n\\n\\nConvert to my time\\nConvert to track time\\n\\n\\n\\n\\n\\n\\n\\n\\nPractice 1\\n\\n            Thu\\n        \\n\\n\\n                18:30\\n            \\n            –\\n            \\n                19:30\\n            \\n\\n\\n\\nPractice 2\\n\\n            Thu\\n        \\n\\n\\n                22:00\\n            \\n            –\\n            \\n                23:00\\n            \\n\\n\\n\\nPractice 3\\n\\n            Fri\\n        \\n\\n\\n                18:30\\n            \\n            –\\n            \\n                19:30\\n            \\n\\n\\n\\n\\n\\nQualifying\\n\\n            Fri\\n        \\n\\n\\n                22:00\\n            \\n            –\\n            \\n                23:00\\n            \\n\\n\\n\\nRace\\n\\n            Sat\\n        \\n\\n            22:00\\n        \\n\\n\\n\\n\\n\\n\\n\\n\\n                23\\n            \\n\\n                Nov\\n            \\n\\n\\n\\n\\n\\n\\n\\nQatar\\n\\n\\n\\n\\nFORMULA 1 QATAR AIRWAYS QATAR GRAND PRIX 2024\\n\\n\\n                                29 Nov 2024\\n                            \\n                        \\n                        -\\n                        \\n                            \\n                                01 Dec 2024\\n                            \\n\\n\\n\\n\\n\\n\\n\\nRolex, Formula 1 official timepiece\\n\\n\\n\\n\\n\\n\\n\\n\\n\\n\\n\\n\\n\\xa0Sync Calendar\\n\\n\\n\\nConvert to my time\\nConvert to track time\\n\\n\\n\\n\\n\\n\\n\\n\\nPractice 1\\n\\n            Fri\\n        \\n\\n\\n                16:30\\n            \\n            –\\n            \\n                17:30\\n            \\n\\n\\n\\nSprint Qualifying\\n\\n            Fri\\n        \\n\\n\\n                20:30\\n            \\n            –\\n            \\n                21:14\\n            \\n\\n\\n\\nSprint\\n\\n            Sat\\n        \\n\\n\\n                16:00\\n            \\n            –\\n            \\n                17:00\\n            \\n\\n\\n\\n\\n\\nQualifying\\n\\n            Sat\\n        \\n\\n\\n                20:00\\n            \\n            –\\n            \\n                21:00\\n            \\n\\n\\n\\nRace\\n\\n            Sun\\n        \\n\\n            20:00\\n        \\n\\n\\n\\n\\n\\n\\n\\n\\n                01\\n            \\n\\n                Dec\\n            \\n\\n\\n\\n\\n\\n\\n\\nAbu Dhabi\\n\\n\\n\\n\\nFORMULA 1 ETIHAD AIRWAYS ABU DHABI GRAND PRIX 2024\\n\\n\\n                                06 Dec 2024\\n                            \\n                        \\n                        -\\n                        \\n                            \\n                                08 Dec 2024\\n                            \\n\\n\\n\\n\\n\\n\\n\\nRolex, Formula 1 official timepiece\\n\\n\\n\\n\\n\\n\\n\\n\\n\\n\\n\\n\\n\\xa0Sync Calendar\\n\\n\\n\\nConvert to my time\\nConvert to track time\\n\\n\\n\\n\\n\\n\\n\\n\\nPractice 1\\n\\n            Fri\\n        \\n\\n\\n                13:30\\n            \\n            –\\n            \\n                14:30\\n            \\n\\n\\n\\nPractice 2\\n\\n            Fri\\n        \\n\\n\\n                17:00\\n            \\n            –\\n            \\n                18:00\\n            \\n\\n\\n\\nPractice 3\\n\\n            Sat\\n        \\n\\n\\n                14:30\\n            \\n            –\\n            \\n                15:30\\n            \\n\\n\\n\\n\\n\\nQualifying\\n\\n            Sat\\n        \\n\\n\\n                18:00\\n            \\n            –\\n            \\n                19:00\\n            \\n\\n\\n\\nRace\\n\\n            Sun\\n        \\n\\n            17:00\\n        \\n\\n\\n\\n\\n\\n\\n\\n\\n                08\\n            \\n\\n                Dec\\n            \\n\\n\\n\\n\\n\\n\\n\\n\\n\\n\\n\\n\\nDRIVERS\\n\\n\\nCONSTRUCTORS\\n\\n\\nLAST RACE\\n\\n\\n\\n\\n\\n\\n\\n\\n    Driver Standings\\n    \\n\\n\\n\\n\\n\\n\\n\\n\\n\\n\\n\\n\\n\\n\\n\\n\\n\\nCharles\\n\\n\\n\\n\\n\\n\\n\\n\\nLeclerc\\n\\n\\n\\n\\n\\n\\n\\n\\n\\n\\n\\n\\n\\n\\n\\n\\n\\n\\nMax\\n\\n\\n\\n\\n\\n\\n\\n\\nVerstappen\\n\\n\\n\\n\\n\\n\\n\\n\\n\\n\\n\\n\\n\\n\\n\\n\\n\\n\\nLando\\n\\n\\n\\n\\n\\n\\n\\n\\nNorris\\n\\n\\n\\n\\n\\n\\n\\n1\\n\\n\\nMax\\nVerstappen\\n\\nRed Bull Racing\\n\\n169 PTS\\n\\n\\n\\n\\n\\n\\n2\\n\\n\\nCharles\\nLeclerc\\n\\nFerrari\\n\\n138 PTS\\n\\n\\n\\n\\n\\n\\n3\\n\\n\\nLando\\nNorris\\n\\nMcLaren\\n\\n113 PTS\\n\\n\\n\\n\\n\\n\\n4\\n\\n\\nCarlos\\nSainz\\n\\nFerrari\\n\\n108 PTS\\n\\n\\n\\n\\n\\n\\n5\\n\\n\\nSergio\\nPerez\\n\\nRed Bull Racing\\n\\n107 PTS\\n\\n\\n\\n\\n\\n\\n6\\n\\n\\nOscar\\nPiastri\\n\\nMcLaren\\n\\n71 PTS\\n\\n\\n\\n\\n\\n\\n7\\n\\n\\nGeorge\\nRussell\\n\\nMercedes\\n\\n54 PTS\\n\\n\\n\\n\\n\\n\\n8\\n\\n\\nLewis\\nHamilton\\n\\nMercedes\\n\\n42 PTS\\n\\n\\n\\n\\n\\nVIEW FULL STANDINGS\\n\\n\\n\\n\\n\\n\\n\\n    Constructor Standings\\n    \\n\\n\\n\\n\\n\\n\\n\\n\\n\\n\\n\\n\\n\\n\\n\\n\\n\\n\\n\\n\\n\\n\\n\\n\\n\\n\\n\\n\\n\\n\\n\\n\\n\\n\\n\\n\\n\\n\\n\\n\\n\\n\\n\\n\\n\\n\\n\\n\\n\\n\\n\\n\\n\\n\\n\\n\\n\\n\\n\\n\\n\\n\\n\\n\\n\\n\\n\\n\\n\\n1\\n\\nRed Bull Racing\\nVerstappen / Perez\\n\\n\\n\\n\\n276 PTS\\n\\n\\n\\n\\n\\n\\n2\\n\\nFerrari\\nLeclerc / Sainz\\n\\n\\n\\n\\n252 PTS\\n\\n\\n\\n\\n\\n\\n3\\n\\nMcLaren\\nNorris / Piastri\\n\\n\\n\\n\\n184 PTS\\n\\n\\n\\n\\n\\n\\n4\\n\\nMercedes\\nHamilton / Russell\\n\\n\\n\\n\\n96 PTS\\n\\n\\n\\n\\n\\n\\n5\\n\\nAston Martin\\nAlonso / Stroll\\n\\n\\n\\n\\n44 PTS\\n\\n\\n\\n\\n\\n\\n6\\n\\nRB\\nTsunoda / Ricciardo\\n\\n\\n\\n\\n24 PTS\\n\\n\\n\\n\\n\\n\\n7\\n\\nHaas\\nHulkenberg / Magnussen\\n\\n\\n\\n\\n7 PTS\\n\\n\\n\\n\\n\\n\\n8\\n\\nWilliams\\nAlbon / Sargeant\\n\\n\\n\\n\\n2 PTS\\n\\n\\n\\n\\n\\nVIEW FULL STANDINGS\\n\\n\\n\\n\\n\\n\\nMonaco\\n\\nFORMULA 1 GRAND PRIX DE MONACO 2024\\n\\n\\n\\n1\\n\\n\\nCharles\\nLeclerc\\n\\nFerrari\\n\\n25 PTS\\n\\n\\n\\n\\n\\n\\n2\\n\\n\\nOscar\\nPiastri\\n\\nMcLaren\\n\\n18 PTS\\n\\n\\n\\n\\n\\n\\n3\\n\\n\\nCarlos\\nSainz\\n\\nFerrari\\n\\n15 PTS\\n\\n\\n\\n\\n\\n\\n4\\n\\n\\nLando\\nNorris\\n\\nMcLaren\\n\\n12 PTS\\n\\n\\n\\n\\n\\n\\n5\\n\\n\\nGeorge\\nRussell\\n\\nMercedes\\n\\n10 PTS\\n\\n\\n\\n\\n\\n\\n6\\n\\n\\nMax\\nVerstappen\\n\\nRed Bull Racing\\n\\n8 PTS\\n\\n\\n\\n\\n\\n\\n7\\n\\n\\nLewis\\nHamilton\\n\\nMercedes\\n\\n7 PTS\\n\\n\\n\\n\\n\\n\\n8\\n\\n\\nYuki\\nTsunoda\\n\\nRB\\n\\n4 PTS\\n\\n\\n\\n\\n\\n\\n9\\n\\n\\nAlexander\\nAlbon\\n\\nWilliams\\n\\n2 PTS\\n\\n\\n\\n\\n\\n\\n10\\n\\n\\nPierre\\nGasly\\n\\nAlpine\\n\\n1 PTS\\n\\n\\n\\n\\n\\nRACE RESULTS\\n\\n\\n\\n\\n\\n\\n\\n\\n\\n\\n\\n\\n\\n\\n\\nF1® Authentics - F1 and team memorabilia\\nSHOP NOW \\n\\n\\n\\n\\n\\n\\n\\n\\n\\n\\n\\n\\n\\n\\n\\n\\nF1® Store - Official F1 & team merchandise\\nSHOP NOW \\n\\n\\n\\n\\n\\n\\n\\n\\n\\n\\n\\n\\n\\n\\n\\n\\nGet closer to the action with F1® TV\\nSUBSCRIBE NOW \\n\\n\\n\\n\\n\\n\\n\\n\\n\\n\\n\\n\\n\\n\\n\\n\\n\\n\\n\\nExplore F1 topics\\n\\n\\n\\n\\n\\n\\n\\n\\n\\n\\n\\nSustainability\\n\\n\\n\\n\\n\\n\\n\\n\\n\\n\\n\\n\\n\\nRace calendar\\n\\n\\n\\n\\n\\n\\n\\n\\n\\n\\n\\n\\n\\nPodcasts\\n\\n\\n\\n\\n\\n\\n\\n\\n\\n\\n\\n\\n\\nEsports\\n\\n\\n\\n\\n\\n\\n\\n\\n\\n\\n\\n\\n\\n\\n\\n\\nDownload the Official F1 App\\n\\n\\n\\n\\n\\n\\n\\n\\nFacebook \\nTwitter \\nInstagram \\nYouTube \\n\\n\\n\\n\\n\\n\\n\\n\\n\\n\\n\\n\\n\\n\\n\\n\\n\\nLatest News\\nWhat is F1?\\nVideo\\nDrivers\\nTeams\\nSchedule\\n\\n\\n\\n\\n\\n\\nResults \\n\\n2024 Season\\nDriver Standings\\nConstructor Standings\\nArchive 1950-2023\\nF1 Awards\\n\\n\\n\\n\\n\\n\\n\\n\\nGaming \\n\\nEsports\\nFantasy\\nF1 23\\nF1 Manager 23\\nF1 Play\\nF1 Mobile Racing\\nF1 Clash\\n\\n\\n\\n\\n\\n\\n\\nLive Timing\\n\\n\\n\\n\\n\\nTickets\\nF1® Experiences\\nStore\\nPaddock Club\\nF1® TV\\nF1® Authentics\\n\\n\\n\\n\\n\\nRules & Regulations\\n\\n\\n\\n\\n\\n\\n\\n\\n\\n\\n\\n\\nMore \\n\\nContacts\\nF1 TV Support\\nPrivacy Policy\\nCookies Policy\\nCookie Preferences\\n\\nGuidelines\\nLegal Notices\\nCode of Conduct\\nAnti-Bribery\\nHuman Rights\\nGender Pay Report\\nTerms of Use\\nPartners\\nF1® Fan Voice\\nBeyond The Grid - the F1® podcast\\nF1® Corporate Site\\nBecome an Affiliate\\nOfficial F1® Race Programme\\nModern Slavery Statement\\n\\n\\n\\n\\n\\n\\n\\n\\n\\n\\n\\n\\n\\n\\n© 2003-2024 Formula One World Championship Limited\\n\\n\\n\\n\\n\\n\\n\\n\\n\\n\\n\\n\\n\\n\\n\\n\\nThis feature is currently not available because you need to provide consent to functional cookies. Please update your cookie preferences\\n\\n\\n\\n\\n\\n\\n\\n\\n\\n\\n\\n\\n\\n\\n\\n\\n\\n\\n\\n\\n\\n\\n\\n\\n\\n\\n\\n\\n\\n\\n\\n\\n\\n\\n\\n\\n\\n\\n\", metadata={'source': 'https://www.formula1.com/', 'title': 'F1 - The Official Home of Formula 1® Racing', 'description': 'Enter the world of Formula 1. Your go-to source for the latest F1 news, video highlights, GP results, live timing, in-depth analysis and expert commentary.', 'language': 'en'})]"
      ]
     },
     "execution_count": 6,
     "metadata": {},
     "output_type": "execute_result"
    }
   ],
   "source": [
    "#Loading from web\n",
    "loader=WebBaseLoader(\"https://www.formula1.com/\")\n",
    "docs=loader.load()\n",
    "docs"
   ]
  },
  {
   "cell_type": "code",
   "execution_count": 8,
   "metadata": {},
   "outputs": [],
   "source": [
    "#Transforming into chunks\n",
    "documents=RecursiveCharacterTextSplitter(chunk_size=1000,chunk_overlap=200).split_documents(docs)\n",
    "\n",
    "#Converting into vectors and storing in vector store\n",
    "vectordb=FAISS.from_documents(documents,OllamaEmbeddings())"
   ]
  },
  {
   "cell_type": "markdown",
   "metadata": {},
   "source": [
    "Creating a retriever tool"
   ]
  },
  {
   "cell_type": "code",
   "execution_count": 9,
   "metadata": {},
   "outputs": [
    {
     "data": {
      "text/plain": [
       "VectorStoreRetriever(tags=['FAISS', 'OllamaEmbeddings'], vectorstore=<langchain_community.vectorstores.faiss.FAISS object at 0x0000021F493E1FF0>)"
      ]
     },
     "execution_count": 9,
     "metadata": {},
     "output_type": "execute_result"
    }
   ],
   "source": [
    "retriever=vectordb.as_retriever()\n",
    "retriever"
   ]
  },
  {
   "cell_type": "code",
   "execution_count": 10,
   "metadata": {},
   "outputs": [],
   "source": [
    "from langchain.tools.retriever import create_retriever_tool\n",
    "prompt=\"Search for information about Formula1 information. It can be about Drivers,Cars or Championships\"\n",
    "tool2=create_retriever_tool(retriever,\"Formula1 Search\",prompt)"
   ]
  },
  {
   "cell_type": "code",
   "execution_count": 11,
   "metadata": {},
   "outputs": [
    {
     "data": {
      "text/plain": [
       "'Formula1 Search'"
      ]
     },
     "execution_count": 11,
     "metadata": {},
     "output_type": "execute_result"
    }
   ],
   "source": [
    "tool2.name"
   ]
  },
  {
   "cell_type": "code",
   "execution_count": 13,
   "metadata": {},
   "outputs": [
    {
     "data": {
      "text/plain": [
       "[WikipediaQueryRun(api_wrapper=WikipediaAPIWrapper(wiki_client=<module 'wikipedia' from 'd:\\\\Data Science\\\\Projects\\\\Gen AI\\\\Project Lang Chain Q&A\\\\venv\\\\lib\\\\site-packages\\\\wikipedia\\\\__init__.py'>, top_k_results=1, lang='en', load_all_available_meta=False, doc_content_chars_max=200)),\n",
       " Tool(name='Formula1 Search', description='Search for information about Formula1 information. It can be about Drivers,Cars or Championships', args_schema=<class 'langchain_core.tools.RetrieverInput'>, func=functools.partial(<function _get_relevant_documents at 0x0000021F3ABFE830>, retriever=VectorStoreRetriever(tags=['FAISS', 'OllamaEmbeddings'], vectorstore=<langchain_community.vectorstores.faiss.FAISS object at 0x0000021F493E1FF0>), document_prompt=PromptTemplate(input_variables=['page_content'], template='{page_content}'), document_separator='\\n\\n'), coroutine=functools.partial(<function _aget_relevant_documents at 0x0000021F3ABFE9E0>, retriever=VectorStoreRetriever(tags=['FAISS', 'OllamaEmbeddings'], vectorstore=<langchain_community.vectorstores.faiss.FAISS object at 0x0000021F493E1FF0>), document_prompt=PromptTemplate(input_variables=['page_content'], template='{page_content}'), document_separator='\\n\\n'))]"
      ]
     },
     "execution_count": 13,
     "metadata": {},
     "output_type": "execute_result"
    }
   ],
   "source": [
    "#Combining both the tools\n",
    "tools=[tool1,tool2]\n",
    "tools"
   ]
  },
  {
   "cell_type": "markdown",
   "metadata": {},
   "source": [
    "Constructing an Agent"
   ]
  },
  {
   "cell_type": "code",
   "execution_count": 15,
   "metadata": {},
   "outputs": [
    {
     "data": {
      "text/plain": [
       "[SystemMessagePromptTemplate(prompt=PromptTemplate(input_variables=[], template='You are a helpful assistant')),\n",
       " MessagesPlaceholder(variable_name='chat_history', optional=True),\n",
       " HumanMessagePromptTemplate(prompt=PromptTemplate(input_variables=['input'], template='{input}')),\n",
       " MessagesPlaceholder(variable_name='agent_scratchpad')]"
      ]
     },
     "execution_count": 15,
     "metadata": {},
     "output_type": "execute_result"
    }
   ],
   "source": [
    "#Prompts from Hub \n",
    "from langchain import hub\n",
    "\n",
    "prompt = hub.pull(\"hwchase17/openai-tools-agent\")\n",
    "prompt.messages"
   ]
  },
  {
   "cell_type": "code",
   "execution_count": 17,
   "metadata": {},
   "outputs": [],
   "source": [
    "from dotenv import load_dotenv\n",
    "\n",
    "load_dotenv()\n",
    "import os\n",
    "os.environ['OPENAI_API_KEY']=os.getenv(\"OPENAI_API_KEY\")"
   ]
  },
  {
   "cell_type": "code",
   "execution_count": 18,
   "metadata": {},
   "outputs": [],
   "source": [
    "#LLM Model\n",
    "from langchain_openai import ChatOpenAI\n",
    "\n",
    "llm = ChatOpenAI(temperature=0)"
   ]
  },
  {
   "cell_type": "code",
   "execution_count": 19,
   "metadata": {},
   "outputs": [],
   "source": [
    "from langchain.agents import AgentExecutor, create_openai_tools_agent\n",
    "\n",
    "agent = create_openai_tools_agent(llm, tools, prompt)\n",
    "agent_executor = AgentExecutor(agent=agent, tools=tools,verbose=True)"
   ]
  },
  {
   "cell_type": "code",
   "execution_count": 20,
   "metadata": {},
   "outputs": [
    {
     "data": {
      "text/plain": [
       "AgentExecutor(verbose=True, agent=RunnableMultiActionAgent(runnable=RunnableAssign(mapper={\n",
       "  agent_scratchpad: RunnableLambda(lambda x: format_to_openai_tool_messages(x['intermediate_steps']))\n",
       "})\n",
       "| ChatPromptTemplate(input_variables=['agent_scratchpad', 'input'], input_types={'chat_history': typing.List[typing.Union[langchain_core.messages.ai.AIMessage, langchain_core.messages.human.HumanMessage, langchain_core.messages.chat.ChatMessage, langchain_core.messages.system.SystemMessage, langchain_core.messages.function.FunctionMessage, langchain_core.messages.tool.ToolMessage]], 'agent_scratchpad': typing.List[typing.Union[langchain_core.messages.ai.AIMessage, langchain_core.messages.human.HumanMessage, langchain_core.messages.chat.ChatMessage, langchain_core.messages.system.SystemMessage, langchain_core.messages.function.FunctionMessage, langchain_core.messages.tool.ToolMessage]]}, metadata={'lc_hub_owner': 'hwchase17', 'lc_hub_repo': 'openai-tools-agent', 'lc_hub_commit_hash': 'c18672812789a3b9697656dd539edf0120285dcae36396d0b548ae42a4ed66f5'}, messages=[SystemMessagePromptTemplate(prompt=PromptTemplate(input_variables=[], template='You are a helpful assistant')), MessagesPlaceholder(variable_name='chat_history', optional=True), HumanMessagePromptTemplate(prompt=PromptTemplate(input_variables=['input'], template='{input}')), MessagesPlaceholder(variable_name='agent_scratchpad')])\n",
       "| RunnableBinding(bound=ChatOpenAI(client=<openai.resources.chat.completions.Completions object at 0x0000021F7C09FA90>, async_client=<openai.resources.chat.completions.AsyncCompletions object at 0x0000021F7C0A91E0>, temperature=0.0, openai_api_key=SecretStr('**********'), openai_proxy=''), kwargs={'tools': [{'type': 'function', 'function': {'name': 'wikipedia', 'description': 'A wrapper around Wikipedia. Useful for when you need to answer general questions about people, places, companies, facts, historical events, or other subjects. Input should be a search query.', 'parameters': {'type': 'object', 'properties': {'query': {'description': 'query to look up on wikipedia', 'type': 'string'}}, 'required': ['query']}}}, {'type': 'function', 'function': {'name': 'Formula1 Search', 'description': 'Search for information about Formula1 information. It can be about Drivers,Cars or Championships', 'parameters': {'type': 'object', 'properties': {'query': {'description': 'query to look up in retriever', 'type': 'string'}}, 'required': ['query']}}}]})\n",
       "| OpenAIToolsAgentOutputParser(), input_keys_arg=[], return_keys_arg=[], stream_runnable=True), tools=[WikipediaQueryRun(api_wrapper=WikipediaAPIWrapper(wiki_client=<module 'wikipedia' from 'd:\\\\Data Science\\\\Projects\\\\Gen AI\\\\Project Lang Chain Q&A\\\\venv\\\\lib\\\\site-packages\\\\wikipedia\\\\__init__.py'>, top_k_results=1, lang='en', load_all_available_meta=False, doc_content_chars_max=200)), Tool(name='Formula1 Search', description='Search for information about Formula1 information. It can be about Drivers,Cars or Championships', args_schema=<class 'langchain_core.tools.RetrieverInput'>, func=functools.partial(<function _get_relevant_documents at 0x0000021F3ABFE830>, retriever=VectorStoreRetriever(tags=['FAISS', 'OllamaEmbeddings'], vectorstore=<langchain_community.vectorstores.faiss.FAISS object at 0x0000021F493E1FF0>), document_prompt=PromptTemplate(input_variables=['page_content'], template='{page_content}'), document_separator='\\n\\n'), coroutine=functools.partial(<function _aget_relevant_documents at 0x0000021F3ABFE9E0>, retriever=VectorStoreRetriever(tags=['FAISS', 'OllamaEmbeddings'], vectorstore=<langchain_community.vectorstores.faiss.FAISS object at 0x0000021F493E1FF0>), document_prompt=PromptTemplate(input_variables=['page_content'], template='{page_content}'), document_separator='\\n\\n'))])"
      ]
     },
     "execution_count": 20,
     "metadata": {},
     "output_type": "execute_result"
    }
   ],
   "source": [
    "agent_executor"
   ]
  },
  {
   "cell_type": "code",
   "execution_count": null,
   "metadata": {},
   "outputs": [],
   "source": [
    "result = agent_executor.invoke({\"input\": \"Tell me about Max Verstappen\"})"
   ]
  }
 ],
 "metadata": {
  "kernelspec": {
   "display_name": "Python 3",
   "language": "python",
   "name": "python3"
  },
  "language_info": {
   "codemirror_mode": {
    "name": "ipython",
    "version": 3
   },
   "file_extension": ".py",
   "mimetype": "text/x-python",
   "name": "python",
   "nbconvert_exporter": "python",
   "pygments_lexer": "ipython3",
   "version": "3.10.14"
  }
 },
 "nbformat": 4,
 "nbformat_minor": 2
}
